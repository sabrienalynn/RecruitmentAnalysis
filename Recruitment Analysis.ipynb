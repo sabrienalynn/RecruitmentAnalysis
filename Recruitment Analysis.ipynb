{
 "cells": [
  {
   "cell_type": "code",
   "execution_count": 1,
   "metadata": {},
   "outputs": [],
   "source": [
    "import numpy as np\n",
    "import matplotlib.pyplot as plt\n",
    "import pandas as pd\n",
    "import numpy as np\n",
    "from sklearn import preprocessing\n",
    "%matplotlib inline"
   ]
  },
  {
   "cell_type": "code",
   "execution_count": 3,
   "metadata": {},
   "outputs": [
    {
     "data": {
      "text/html": [
       "<div>\n",
       "<style scoped>\n",
       "    .dataframe tbody tr th:only-of-type {\n",
       "        vertical-align: middle;\n",
       "    }\n",
       "\n",
       "    .dataframe tbody tr th {\n",
       "        vertical-align: top;\n",
       "    }\n",
       "\n",
       "    .dataframe thead th {\n",
       "        text-align: right;\n",
       "    }\n",
       "</style>\n",
       "<table border=\"1\" class=\"dataframe\">\n",
       "  <thead>\n",
       "    <tr style=\"text-align: right;\">\n",
       "      <th></th>\n",
       "      <th>Application ID</th>\n",
       "      <th>Date of application</th>\n",
       "      <th>Pre-screening Verbal Reasoning Test Score</th>\n",
       "      <th>Final Stage</th>\n",
       "      <th>Gender</th>\n",
       "    </tr>\n",
       "  </thead>\n",
       "  <tbody>\n",
       "    <tr>\n",
       "      <th>0</th>\n",
       "      <td>Just a unique identifier</td>\n",
       "      <td>When the application was submitted</td>\n",
       "      <td>Mark out of 100</td>\n",
       "      <td>The final outcome of the application</td>\n",
       "      <td>NaN</td>\n",
       "    </tr>\n",
       "    <tr>\n",
       "      <th>1</th>\n",
       "      <td>295961</td>\n",
       "      <td>12/24/2016</td>\n",
       "      <td>62%</td>\n",
       "      <td>Rejected at 1st Stage (Screening)</td>\n",
       "      <td>Male</td>\n",
       "    </tr>\n",
       "    <tr>\n",
       "      <th>2</th>\n",
       "      <td>681724</td>\n",
       "      <td>3/8/2016</td>\n",
       "      <td>58%</td>\n",
       "      <td>Rejected at 1st Stage (Screening)</td>\n",
       "      <td>Male</td>\n",
       "    </tr>\n",
       "    <tr>\n",
       "      <th>3</th>\n",
       "      <td>226158</td>\n",
       "      <td>6/7/2018</td>\n",
       "      <td>48%</td>\n",
       "      <td>Rejected at 1st Stage (Screening)</td>\n",
       "      <td>Female</td>\n",
       "    </tr>\n",
       "    <tr>\n",
       "      <th>4</th>\n",
       "      <td>791821</td>\n",
       "      <td>5/27/2019</td>\n",
       "      <td>78%</td>\n",
       "      <td>Rejected at 1st Stage (Screening)</td>\n",
       "      <td>Female</td>\n",
       "    </tr>\n",
       "  </tbody>\n",
       "</table>\n",
       "</div>"
      ],
      "text/plain": [
       "             Application ID                 Date of application  \\\n",
       "0  Just a unique identifier  When the application was submitted   \n",
       "1                    295961                          12/24/2016   \n",
       "2                    681724                            3/8/2016   \n",
       "3                    226158                            6/7/2018   \n",
       "4                    791821                           5/27/2019   \n",
       "\n",
       "  Pre-screening Verbal Reasoning Test Score  \\\n",
       "0                           Mark out of 100   \n",
       "1                                       62%   \n",
       "2                                       58%   \n",
       "3                                       48%   \n",
       "4                                       78%   \n",
       "\n",
       "                            Final Stage  Gender  \n",
       "0  The final outcome of the application     NaN  \n",
       "1     Rejected at 1st Stage (Screening)    Male  \n",
       "2     Rejected at 1st Stage (Screening)    Male  \n",
       "3     Rejected at 1st Stage (Screening)  Female  \n",
       "4     Rejected at 1st Stage (Screening)  Female  "
      ]
     },
     "execution_count": 3,
     "metadata": {},
     "output_type": "execute_result"
    }
   ],
   "source": [
    "df = pd.read_csv('recruit.csv')\n",
    "df.head()"
   ]
  },
  {
   "cell_type": "code",
   "execution_count": 4,
   "metadata": {},
   "outputs": [
    {
     "data": {
      "text/plain": [
       "Female               592\n",
       "Male                 379\n",
       "Prefer not to say     28\n",
       "Name: Gender, dtype: int64"
      ]
     },
     "execution_count": 4,
     "metadata": {},
     "output_type": "execute_result"
    }
   ],
   "source": [
    "df['Gender'].value_counts()"
   ]
  },
  {
   "cell_type": "code",
   "execution_count": 5,
   "metadata": {},
   "outputs": [
    {
     "data": {
      "text/plain": [
       "Rejected at 1st Stage (Screening)         514\n",
       "Rejected at 2nd Stage (Assessment Day)    204\n",
       "Made an offer                             204\n",
       "Rejected at 3rd Stage (121 Interview)      77\n",
       "The final outcome of the application        1\n",
       "Name: Final Stage, dtype: int64"
      ]
     },
     "execution_count": 5,
     "metadata": {},
     "output_type": "execute_result"
    }
   ],
   "source": [
    "df['Final Stage'].value_counts()"
   ]
  },
  {
   "cell_type": "code",
   "execution_count": 7,
   "metadata": {},
   "outputs": [
    {
     "data": {
      "text/html": [
       "<div>\n",
       "<style scoped>\n",
       "    .dataframe tbody tr th:only-of-type {\n",
       "        vertical-align: middle;\n",
       "    }\n",
       "\n",
       "    .dataframe tbody tr th {\n",
       "        vertical-align: top;\n",
       "    }\n",
       "\n",
       "    .dataframe thead th {\n",
       "        text-align: right;\n",
       "    }\n",
       "</style>\n",
       "<table border=\"1\" class=\"dataframe\">\n",
       "  <thead>\n",
       "    <tr style=\"text-align: right;\">\n",
       "      <th></th>\n",
       "      <th>Application ID</th>\n",
       "      <th>Date of application</th>\n",
       "      <th>Pre-screening Verbal Reasoning Test Score</th>\n",
       "      <th>Final Stage</th>\n",
       "      <th>Gender</th>\n",
       "    </tr>\n",
       "  </thead>\n",
       "  <tbody>\n",
       "    <tr>\n",
       "      <th>count</th>\n",
       "      <td>1000</td>\n",
       "      <td>1000</td>\n",
       "      <td>1000</td>\n",
       "      <td>1000</td>\n",
       "      <td>999</td>\n",
       "    </tr>\n",
       "    <tr>\n",
       "      <th>unique</th>\n",
       "      <td>999</td>\n",
       "      <td>738</td>\n",
       "      <td>68</td>\n",
       "      <td>5</td>\n",
       "      <td>3</td>\n",
       "    </tr>\n",
       "    <tr>\n",
       "      <th>top</th>\n",
       "      <td>668348</td>\n",
       "      <td>7/14/2016</td>\n",
       "      <td>53%</td>\n",
       "      <td>Rejected at 1st Stage (Screening)</td>\n",
       "      <td>Female</td>\n",
       "    </tr>\n",
       "    <tr>\n",
       "      <th>freq</th>\n",
       "      <td>2</td>\n",
       "      <td>4</td>\n",
       "      <td>41</td>\n",
       "      <td>514</td>\n",
       "      <td>592</td>\n",
       "    </tr>\n",
       "  </tbody>\n",
       "</table>\n",
       "</div>"
      ],
      "text/plain": [
       "       Application ID Date of application  \\\n",
       "count            1000                1000   \n",
       "unique            999                 738   \n",
       "top            668348           7/14/2016   \n",
       "freq                2                   4   \n",
       "\n",
       "       Pre-screening Verbal Reasoning Test Score  \\\n",
       "count                                       1000   \n",
       "unique                                        68   \n",
       "top                                          53%   \n",
       "freq                                          41   \n",
       "\n",
       "                              Final Stage  Gender  \n",
       "count                                1000     999  \n",
       "unique                                  5       3  \n",
       "top     Rejected at 1st Stage (Screening)  Female  \n",
       "freq                                  514     592  "
      ]
     },
     "execution_count": 7,
     "metadata": {},
     "output_type": "execute_result"
    }
   ],
   "source": [
    "df.describe()"
   ]
  },
  {
   "cell_type": "code",
   "execution_count": 8,
   "metadata": {},
   "outputs": [
    {
     "data": {
      "text/plain": [
       "Index(['Application ID', 'Date of application',\n",
       "       'Pre-screening Verbal Reasoning Test Score', 'Final Stage', 'Gender'],\n",
       "      dtype='object')"
      ]
     },
     "execution_count": 8,
     "metadata": {},
     "output_type": "execute_result"
    }
   ],
   "source": [
    "df.columns"
   ]
  },
  {
   "cell_type": "code",
   "execution_count": 40,
   "metadata": {},
   "outputs": [],
   "source": [
    "df2=df.drop([0])"
   ]
  },
  {
   "cell_type": "code",
   "execution_count": 86,
   "metadata": {},
   "outputs": [],
   "source": [
    "df=df2.drop('Application ID', axis=1)"
   ]
  },
  {
   "cell_type": "code",
   "execution_count": 87,
   "metadata": {},
   "outputs": [],
   "source": [
    "df4=df3.rename({\"Pre-screening Verbal Reasoning Test Score\":\"Initial Score\"}, axis=1)"
   ]
  },
  {
   "cell_type": "code",
   "execution_count": 88,
   "metadata": {},
   "outputs": [
    {
     "data": {
      "text/plain": [
       "str"
      ]
     },
     "execution_count": 88,
     "metadata": {},
     "output_type": "execute_result"
    }
   ],
   "source": [
    "type('Initial Score')"
   ]
  },
  {
   "cell_type": "code",
   "execution_count": 89,
   "metadata": {},
   "outputs": [],
   "source": [
    "df5=df4['Initial Score'].str.rstrip('%').astype('float') / 100.0"
   ]
  },
  {
   "cell_type": "code",
   "execution_count": 90,
   "metadata": {},
   "outputs": [
    {
     "data": {
      "text/plain": [
       "1      0.62\n",
       "2      0.58\n",
       "3      0.48\n",
       "4      0.78\n",
       "5      0.68\n",
       "       ... \n",
       "995    0.60\n",
       "996    0.58\n",
       "997    0.50\n",
       "998    0.65\n",
       "999    0.42\n",
       "Name: Initial Score, Length: 999, dtype: float64"
      ]
     },
     "execution_count": 90,
     "metadata": {},
     "output_type": "execute_result"
    }
   ],
   "source": [
    "df5"
   ]
  },
  {
   "cell_type": "code",
   "execution_count": 98,
   "metadata": {},
   "outputs": [],
   "source": [
    "df4['new']= df5.values"
   ]
  },
  {
   "cell_type": "code",
   "execution_count": 99,
   "metadata": {},
   "outputs": [
    {
     "data": {
      "text/html": [
       "<div>\n",
       "<style scoped>\n",
       "    .dataframe tbody tr th:only-of-type {\n",
       "        vertical-align: middle;\n",
       "    }\n",
       "\n",
       "    .dataframe tbody tr th {\n",
       "        vertical-align: top;\n",
       "    }\n",
       "\n",
       "    .dataframe thead th {\n",
       "        text-align: right;\n",
       "    }\n",
       "</style>\n",
       "<table border=\"1\" class=\"dataframe\">\n",
       "  <thead>\n",
       "    <tr style=\"text-align: right;\">\n",
       "      <th></th>\n",
       "      <th>Date of application</th>\n",
       "      <th>Initial Score</th>\n",
       "      <th>Final Stage</th>\n",
       "      <th>Gender</th>\n",
       "      <th>new</th>\n",
       "    </tr>\n",
       "  </thead>\n",
       "  <tbody>\n",
       "    <tr>\n",
       "      <th>1</th>\n",
       "      <td>12/24/2016</td>\n",
       "      <td>62%</td>\n",
       "      <td>Rejected at 1st Stage (Screening)</td>\n",
       "      <td>Male</td>\n",
       "      <td>0.62</td>\n",
       "    </tr>\n",
       "    <tr>\n",
       "      <th>2</th>\n",
       "      <td>3/8/2016</td>\n",
       "      <td>58%</td>\n",
       "      <td>Rejected at 1st Stage (Screening)</td>\n",
       "      <td>Male</td>\n",
       "      <td>0.58</td>\n",
       "    </tr>\n",
       "    <tr>\n",
       "      <th>3</th>\n",
       "      <td>6/7/2018</td>\n",
       "      <td>48%</td>\n",
       "      <td>Rejected at 1st Stage (Screening)</td>\n",
       "      <td>Female</td>\n",
       "      <td>0.48</td>\n",
       "    </tr>\n",
       "    <tr>\n",
       "      <th>4</th>\n",
       "      <td>5/27/2019</td>\n",
       "      <td>78%</td>\n",
       "      <td>Rejected at 1st Stage (Screening)</td>\n",
       "      <td>Female</td>\n",
       "      <td>0.78</td>\n",
       "    </tr>\n",
       "    <tr>\n",
       "      <th>5</th>\n",
       "      <td>2/14/2018</td>\n",
       "      <td>68%</td>\n",
       "      <td>Rejected at 1st Stage (Screening)</td>\n",
       "      <td>Male</td>\n",
       "      <td>0.68</td>\n",
       "    </tr>\n",
       "    <tr>\n",
       "      <th>...</th>\n",
       "      <td>...</td>\n",
       "      <td>...</td>\n",
       "      <td>...</td>\n",
       "      <td>...</td>\n",
       "      <td>...</td>\n",
       "    </tr>\n",
       "    <tr>\n",
       "      <th>995</th>\n",
       "      <td>1/23/2017</td>\n",
       "      <td>60%</td>\n",
       "      <td>Rejected at 3rd Stage (121 Interview)</td>\n",
       "      <td>Male</td>\n",
       "      <td>0.60</td>\n",
       "    </tr>\n",
       "    <tr>\n",
       "      <th>996</th>\n",
       "      <td>6/10/2017</td>\n",
       "      <td>58%</td>\n",
       "      <td>Rejected at 1st Stage (Screening)</td>\n",
       "      <td>Male</td>\n",
       "      <td>0.58</td>\n",
       "    </tr>\n",
       "    <tr>\n",
       "      <th>997</th>\n",
       "      <td>12/6/2017</td>\n",
       "      <td>50%</td>\n",
       "      <td>Made an offer</td>\n",
       "      <td>Female</td>\n",
       "      <td>0.50</td>\n",
       "    </tr>\n",
       "    <tr>\n",
       "      <th>998</th>\n",
       "      <td>10/16/2019</td>\n",
       "      <td>65%</td>\n",
       "      <td>Rejected at 1st Stage (Screening)</td>\n",
       "      <td>Female</td>\n",
       "      <td>0.65</td>\n",
       "    </tr>\n",
       "    <tr>\n",
       "      <th>999</th>\n",
       "      <td>7/9/2019</td>\n",
       "      <td>42%</td>\n",
       "      <td>Rejected at 1st Stage (Screening)</td>\n",
       "      <td>Female</td>\n",
       "      <td>0.42</td>\n",
       "    </tr>\n",
       "  </tbody>\n",
       "</table>\n",
       "<p>999 rows × 5 columns</p>\n",
       "</div>"
      ],
      "text/plain": [
       "    Date of application Initial Score                            Final Stage  \\\n",
       "1            12/24/2016           62%      Rejected at 1st Stage (Screening)   \n",
       "2              3/8/2016           58%      Rejected at 1st Stage (Screening)   \n",
       "3              6/7/2018           48%      Rejected at 1st Stage (Screening)   \n",
       "4             5/27/2019           78%      Rejected at 1st Stage (Screening)   \n",
       "5             2/14/2018           68%      Rejected at 1st Stage (Screening)   \n",
       "..                  ...           ...                                    ...   \n",
       "995           1/23/2017           60%  Rejected at 3rd Stage (121 Interview)   \n",
       "996           6/10/2017           58%      Rejected at 1st Stage (Screening)   \n",
       "997           12/6/2017           50%                          Made an offer   \n",
       "998          10/16/2019           65%      Rejected at 1st Stage (Screening)   \n",
       "999            7/9/2019           42%      Rejected at 1st Stage (Screening)   \n",
       "\n",
       "     Gender   new  \n",
       "1      Male  0.62  \n",
       "2      Male  0.58  \n",
       "3    Female  0.48  \n",
       "4    Female  0.78  \n",
       "5      Male  0.68  \n",
       "..      ...   ...  \n",
       "995    Male  0.60  \n",
       "996    Male  0.58  \n",
       "997  Female  0.50  \n",
       "998  Female  0.65  \n",
       "999  Female  0.42  \n",
       "\n",
       "[999 rows x 5 columns]"
      ]
     },
     "execution_count": 99,
     "metadata": {},
     "output_type": "execute_result"
    }
   ],
   "source": [
    "df4"
   ]
  },
  {
   "cell_type": "code",
   "execution_count": 104,
   "metadata": {},
   "outputs": [
    {
     "data": {
      "text/plain": [
       "(999, 5)"
      ]
     },
     "execution_count": 104,
     "metadata": {},
     "output_type": "execute_result"
    }
   ],
   "source": [
    "df4.shape"
   ]
  },
  {
   "cell_type": "code",
   "execution_count": 101,
   "metadata": {},
   "outputs": [
    {
     "data": {
      "text/html": [
       "<div>\n",
       "<style scoped>\n",
       "    .dataframe tbody tr th:only-of-type {\n",
       "        vertical-align: middle;\n",
       "    }\n",
       "\n",
       "    .dataframe tbody tr th {\n",
       "        vertical-align: top;\n",
       "    }\n",
       "\n",
       "    .dataframe thead th {\n",
       "        text-align: right;\n",
       "    }\n",
       "</style>\n",
       "<table border=\"1\" class=\"dataframe\">\n",
       "  <thead>\n",
       "    <tr style=\"text-align: right;\">\n",
       "      <th></th>\n",
       "      <th>new</th>\n",
       "    </tr>\n",
       "  </thead>\n",
       "  <tbody>\n",
       "    <tr>\n",
       "      <th>count</th>\n",
       "      <td>999.000000</td>\n",
       "    </tr>\n",
       "    <tr>\n",
       "      <th>mean</th>\n",
       "      <td>0.588368</td>\n",
       "    </tr>\n",
       "    <tr>\n",
       "      <th>std</th>\n",
       "      <td>0.118050</td>\n",
       "    </tr>\n",
       "    <tr>\n",
       "      <th>min</th>\n",
       "      <td>0.230000</td>\n",
       "    </tr>\n",
       "    <tr>\n",
       "      <th>25%</th>\n",
       "      <td>0.510000</td>\n",
       "    </tr>\n",
       "    <tr>\n",
       "      <th>50%</th>\n",
       "      <td>0.590000</td>\n",
       "    </tr>\n",
       "    <tr>\n",
       "      <th>75%</th>\n",
       "      <td>0.670000</td>\n",
       "    </tr>\n",
       "    <tr>\n",
       "      <th>max</th>\n",
       "      <td>1.000000</td>\n",
       "    </tr>\n",
       "  </tbody>\n",
       "</table>\n",
       "</div>"
      ],
      "text/plain": [
       "              new\n",
       "count  999.000000\n",
       "mean     0.588368\n",
       "std      0.118050\n",
       "min      0.230000\n",
       "25%      0.510000\n",
       "50%      0.590000\n",
       "75%      0.670000\n",
       "max      1.000000"
      ]
     },
     "execution_count": 101,
     "metadata": {},
     "output_type": "execute_result"
    }
   ],
   "source": [
    "df4.describe()"
   ]
  },
  {
   "cell_type": "code",
   "execution_count": 102,
   "metadata": {},
   "outputs": [
    {
     "data": {
      "text/plain": [
       "str"
      ]
     },
     "execution_count": 102,
     "metadata": {},
     "output_type": "execute_result"
    }
   ],
   "source": [
    "type('new')"
   ]
  },
  {
   "cell_type": "code",
   "execution_count": 116,
   "metadata": {},
   "outputs": [
    {
     "name": "stdout",
     "output_type": "stream",
     "text": [
      "<class 'pandas.core.frame.DataFrame'>\n",
      "Int64Index: 999 entries, 1 to 999\n",
      "Data columns (total 4 columns):\n",
      " #   Column                                     Non-Null Count  Dtype \n",
      "---  ------                                     --------------  ----- \n",
      " 0   Date of application                        999 non-null    object\n",
      " 1   Pre-screening Verbal Reasoning Test Score  999 non-null    object\n",
      " 2   Final Stage                                999 non-null    object\n",
      " 3   Gender                                     999 non-null    object\n",
      "dtypes: object(4)\n",
      "memory usage: 39.0+ KB\n",
      "None\n"
     ]
    },
    {
     "data": {
      "text/plain": [
       "array(['Rejected at 1st Stage (Screening)', 'Made an offer',\n",
       "       'Rejected at 2nd Stage (Assessment Day)',\n",
       "       'Rejected at 3rd Stage (121 Interview)'], dtype=object)"
      ]
     },
     "execution_count": 116,
     "metadata": {},
     "output_type": "execute_result"
    }
   ],
   "source": [
    "print(df.info())\n",
    "df['Final Stage'].unique()"
   ]
  },
  {
   "cell_type": "code",
   "execution_count": 127,
   "metadata": {},
   "outputs": [
    {
     "data": {
      "text/plain": [
       "array([['Mark out of 100'],\n",
       "       ['62%'],\n",
       "       ['58%'],\n",
       "       ['48%'],\n",
       "       ['78%']], dtype=object)"
      ]
     },
     "execution_count": 127,
     "metadata": {},
     "output_type": "execute_result"
    }
   ],
   "source": [
    "from sklearn import preprocessing\n",
    "\n",
    "#Date of application\tInitial Score\tFinal Stage\tGender\t\n",
    "\n",
    "FinalStage = preprocessing.LabelEncoder()\n",
    "FinalStage.fit(['Rejected at 1st Stage (Screening)','Made an offer','Rejected at 2nd Stage (Assessment Day)', 'Rejected at 3rd Stage (121 Interview)'])\n",
    "\n",
    "X[0:5]\n"
   ]
  },
  {
   "cell_type": "code",
   "execution_count": 128,
   "metadata": {},
   "outputs": [
    {
     "data": {
      "text/html": [
       "<div>\n",
       "<style scoped>\n",
       "    .dataframe tbody tr th:only-of-type {\n",
       "        vertical-align: middle;\n",
       "    }\n",
       "\n",
       "    .dataframe tbody tr th {\n",
       "        vertical-align: top;\n",
       "    }\n",
       "\n",
       "    .dataframe thead th {\n",
       "        text-align: right;\n",
       "    }\n",
       "</style>\n",
       "<table border=\"1\" class=\"dataframe\">\n",
       "  <thead>\n",
       "    <tr style=\"text-align: right;\">\n",
       "      <th></th>\n",
       "      <th>Date of application</th>\n",
       "      <th>Initial Score</th>\n",
       "      <th>Final Stage</th>\n",
       "      <th>Gender</th>\n",
       "      <th>new</th>\n",
       "    </tr>\n",
       "  </thead>\n",
       "  <tbody>\n",
       "    <tr>\n",
       "      <th>1</th>\n",
       "      <td>12/24/2016</td>\n",
       "      <td>62%</td>\n",
       "      <td>Rejected at 1st Stage (Screening)</td>\n",
       "      <td>Male</td>\n",
       "      <td>0.62</td>\n",
       "    </tr>\n",
       "    <tr>\n",
       "      <th>2</th>\n",
       "      <td>3/8/2016</td>\n",
       "      <td>58%</td>\n",
       "      <td>Rejected at 1st Stage (Screening)</td>\n",
       "      <td>Male</td>\n",
       "      <td>0.58</td>\n",
       "    </tr>\n",
       "    <tr>\n",
       "      <th>3</th>\n",
       "      <td>6/7/2018</td>\n",
       "      <td>48%</td>\n",
       "      <td>Rejected at 1st Stage (Screening)</td>\n",
       "      <td>Female</td>\n",
       "      <td>0.48</td>\n",
       "    </tr>\n",
       "    <tr>\n",
       "      <th>4</th>\n",
       "      <td>5/27/2019</td>\n",
       "      <td>78%</td>\n",
       "      <td>Rejected at 1st Stage (Screening)</td>\n",
       "      <td>Female</td>\n",
       "      <td>0.78</td>\n",
       "    </tr>\n",
       "    <tr>\n",
       "      <th>5</th>\n",
       "      <td>2/14/2018</td>\n",
       "      <td>68%</td>\n",
       "      <td>Rejected at 1st Stage (Screening)</td>\n",
       "      <td>Male</td>\n",
       "      <td>0.68</td>\n",
       "    </tr>\n",
       "    <tr>\n",
       "      <th>...</th>\n",
       "      <td>...</td>\n",
       "      <td>...</td>\n",
       "      <td>...</td>\n",
       "      <td>...</td>\n",
       "      <td>...</td>\n",
       "    </tr>\n",
       "    <tr>\n",
       "      <th>995</th>\n",
       "      <td>1/23/2017</td>\n",
       "      <td>60%</td>\n",
       "      <td>Rejected at 3rd Stage (121 Interview)</td>\n",
       "      <td>Male</td>\n",
       "      <td>0.60</td>\n",
       "    </tr>\n",
       "    <tr>\n",
       "      <th>996</th>\n",
       "      <td>6/10/2017</td>\n",
       "      <td>58%</td>\n",
       "      <td>Rejected at 1st Stage (Screening)</td>\n",
       "      <td>Male</td>\n",
       "      <td>0.58</td>\n",
       "    </tr>\n",
       "    <tr>\n",
       "      <th>997</th>\n",
       "      <td>12/6/2017</td>\n",
       "      <td>50%</td>\n",
       "      <td>Made an offer</td>\n",
       "      <td>Female</td>\n",
       "      <td>0.50</td>\n",
       "    </tr>\n",
       "    <tr>\n",
       "      <th>998</th>\n",
       "      <td>10/16/2019</td>\n",
       "      <td>65%</td>\n",
       "      <td>Rejected at 1st Stage (Screening)</td>\n",
       "      <td>Female</td>\n",
       "      <td>0.65</td>\n",
       "    </tr>\n",
       "    <tr>\n",
       "      <th>999</th>\n",
       "      <td>7/9/2019</td>\n",
       "      <td>42%</td>\n",
       "      <td>Rejected at 1st Stage (Screening)</td>\n",
       "      <td>Female</td>\n",
       "      <td>0.42</td>\n",
       "    </tr>\n",
       "  </tbody>\n",
       "</table>\n",
       "<p>999 rows × 5 columns</p>\n",
       "</div>"
      ],
      "text/plain": [
       "    Date of application Initial Score                            Final Stage  \\\n",
       "1            12/24/2016           62%      Rejected at 1st Stage (Screening)   \n",
       "2              3/8/2016           58%      Rejected at 1st Stage (Screening)   \n",
       "3              6/7/2018           48%      Rejected at 1st Stage (Screening)   \n",
       "4             5/27/2019           78%      Rejected at 1st Stage (Screening)   \n",
       "5             2/14/2018           68%      Rejected at 1st Stage (Screening)   \n",
       "..                  ...           ...                                    ...   \n",
       "995           1/23/2017           60%  Rejected at 3rd Stage (121 Interview)   \n",
       "996           6/10/2017           58%      Rejected at 1st Stage (Screening)   \n",
       "997           12/6/2017           50%                          Made an offer   \n",
       "998          10/16/2019           65%      Rejected at 1st Stage (Screening)   \n",
       "999            7/9/2019           42%      Rejected at 1st Stage (Screening)   \n",
       "\n",
       "     Gender   new  \n",
       "1      Male  0.62  \n",
       "2      Male  0.58  \n",
       "3    Female  0.48  \n",
       "4    Female  0.78  \n",
       "5      Male  0.68  \n",
       "..      ...   ...  \n",
       "995    Male  0.60  \n",
       "996    Male  0.58  \n",
       "997  Female  0.50  \n",
       "998  Female  0.65  \n",
       "999  Female  0.42  \n",
       "\n",
       "[999 rows x 5 columns]"
      ]
     },
     "execution_count": 128,
     "metadata": {},
     "output_type": "execute_result"
    }
   ],
   "source": [
    "df4"
   ]
  },
  {
   "cell_type": "code",
   "execution_count": 138,
   "metadata": {},
   "outputs": [],
   "source": [
    "df6 = pd.get_dummies(df4, columns=['Final Stage'])"
   ]
  },
  {
   "cell_type": "code",
   "execution_count": 139,
   "metadata": {},
   "outputs": [
    {
     "data": {
      "text/html": [
       "<div>\n",
       "<style scoped>\n",
       "    .dataframe tbody tr th:only-of-type {\n",
       "        vertical-align: middle;\n",
       "    }\n",
       "\n",
       "    .dataframe tbody tr th {\n",
       "        vertical-align: top;\n",
       "    }\n",
       "\n",
       "    .dataframe thead th {\n",
       "        text-align: right;\n",
       "    }\n",
       "</style>\n",
       "<table border=\"1\" class=\"dataframe\">\n",
       "  <thead>\n",
       "    <tr style=\"text-align: right;\">\n",
       "      <th></th>\n",
       "      <th>Date of application</th>\n",
       "      <th>Initial Score</th>\n",
       "      <th>Gender</th>\n",
       "      <th>new</th>\n",
       "      <th>Final Stage_Made an offer</th>\n",
       "      <th>Final Stage_Rejected at 1st Stage (Screening)</th>\n",
       "      <th>Final Stage_Rejected at 2nd Stage (Assessment Day)</th>\n",
       "      <th>Final Stage_Rejected at 3rd Stage (121 Interview)</th>\n",
       "    </tr>\n",
       "  </thead>\n",
       "  <tbody>\n",
       "    <tr>\n",
       "      <th>1</th>\n",
       "      <td>12/24/2016</td>\n",
       "      <td>62%</td>\n",
       "      <td>Male</td>\n",
       "      <td>0.62</td>\n",
       "      <td>0</td>\n",
       "      <td>1</td>\n",
       "      <td>0</td>\n",
       "      <td>0</td>\n",
       "    </tr>\n",
       "    <tr>\n",
       "      <th>2</th>\n",
       "      <td>3/8/2016</td>\n",
       "      <td>58%</td>\n",
       "      <td>Male</td>\n",
       "      <td>0.58</td>\n",
       "      <td>0</td>\n",
       "      <td>1</td>\n",
       "      <td>0</td>\n",
       "      <td>0</td>\n",
       "    </tr>\n",
       "    <tr>\n",
       "      <th>3</th>\n",
       "      <td>6/7/2018</td>\n",
       "      <td>48%</td>\n",
       "      <td>Female</td>\n",
       "      <td>0.48</td>\n",
       "      <td>0</td>\n",
       "      <td>1</td>\n",
       "      <td>0</td>\n",
       "      <td>0</td>\n",
       "    </tr>\n",
       "    <tr>\n",
       "      <th>4</th>\n",
       "      <td>5/27/2019</td>\n",
       "      <td>78%</td>\n",
       "      <td>Female</td>\n",
       "      <td>0.78</td>\n",
       "      <td>0</td>\n",
       "      <td>1</td>\n",
       "      <td>0</td>\n",
       "      <td>0</td>\n",
       "    </tr>\n",
       "    <tr>\n",
       "      <th>5</th>\n",
       "      <td>2/14/2018</td>\n",
       "      <td>68%</td>\n",
       "      <td>Male</td>\n",
       "      <td>0.68</td>\n",
       "      <td>0</td>\n",
       "      <td>1</td>\n",
       "      <td>0</td>\n",
       "      <td>0</td>\n",
       "    </tr>\n",
       "    <tr>\n",
       "      <th>...</th>\n",
       "      <td>...</td>\n",
       "      <td>...</td>\n",
       "      <td>...</td>\n",
       "      <td>...</td>\n",
       "      <td>...</td>\n",
       "      <td>...</td>\n",
       "      <td>...</td>\n",
       "      <td>...</td>\n",
       "    </tr>\n",
       "    <tr>\n",
       "      <th>995</th>\n",
       "      <td>1/23/2017</td>\n",
       "      <td>60%</td>\n",
       "      <td>Male</td>\n",
       "      <td>0.60</td>\n",
       "      <td>0</td>\n",
       "      <td>0</td>\n",
       "      <td>0</td>\n",
       "      <td>1</td>\n",
       "    </tr>\n",
       "    <tr>\n",
       "      <th>996</th>\n",
       "      <td>6/10/2017</td>\n",
       "      <td>58%</td>\n",
       "      <td>Male</td>\n",
       "      <td>0.58</td>\n",
       "      <td>0</td>\n",
       "      <td>1</td>\n",
       "      <td>0</td>\n",
       "      <td>0</td>\n",
       "    </tr>\n",
       "    <tr>\n",
       "      <th>997</th>\n",
       "      <td>12/6/2017</td>\n",
       "      <td>50%</td>\n",
       "      <td>Female</td>\n",
       "      <td>0.50</td>\n",
       "      <td>1</td>\n",
       "      <td>0</td>\n",
       "      <td>0</td>\n",
       "      <td>0</td>\n",
       "    </tr>\n",
       "    <tr>\n",
       "      <th>998</th>\n",
       "      <td>10/16/2019</td>\n",
       "      <td>65%</td>\n",
       "      <td>Female</td>\n",
       "      <td>0.65</td>\n",
       "      <td>0</td>\n",
       "      <td>1</td>\n",
       "      <td>0</td>\n",
       "      <td>0</td>\n",
       "    </tr>\n",
       "    <tr>\n",
       "      <th>999</th>\n",
       "      <td>7/9/2019</td>\n",
       "      <td>42%</td>\n",
       "      <td>Female</td>\n",
       "      <td>0.42</td>\n",
       "      <td>0</td>\n",
       "      <td>1</td>\n",
       "      <td>0</td>\n",
       "      <td>0</td>\n",
       "    </tr>\n",
       "  </tbody>\n",
       "</table>\n",
       "<p>999 rows × 8 columns</p>\n",
       "</div>"
      ],
      "text/plain": [
       "    Date of application Initial Score  Gender   new  \\\n",
       "1            12/24/2016           62%    Male  0.62   \n",
       "2              3/8/2016           58%    Male  0.58   \n",
       "3              6/7/2018           48%  Female  0.48   \n",
       "4             5/27/2019           78%  Female  0.78   \n",
       "5             2/14/2018           68%    Male  0.68   \n",
       "..                  ...           ...     ...   ...   \n",
       "995           1/23/2017           60%    Male  0.60   \n",
       "996           6/10/2017           58%    Male  0.58   \n",
       "997           12/6/2017           50%  Female  0.50   \n",
       "998          10/16/2019           65%  Female  0.65   \n",
       "999            7/9/2019           42%  Female  0.42   \n",
       "\n",
       "     Final Stage_Made an offer  Final Stage_Rejected at 1st Stage (Screening)  \\\n",
       "1                            0                                              1   \n",
       "2                            0                                              1   \n",
       "3                            0                                              1   \n",
       "4                            0                                              1   \n",
       "5                            0                                              1   \n",
       "..                         ...                                            ...   \n",
       "995                          0                                              0   \n",
       "996                          0                                              1   \n",
       "997                          1                                              0   \n",
       "998                          0                                              1   \n",
       "999                          0                                              1   \n",
       "\n",
       "     Final Stage_Rejected at 2nd Stage (Assessment Day)  \\\n",
       "1                                                    0    \n",
       "2                                                    0    \n",
       "3                                                    0    \n",
       "4                                                    0    \n",
       "5                                                    0    \n",
       "..                                                 ...    \n",
       "995                                                  0    \n",
       "996                                                  0    \n",
       "997                                                  0    \n",
       "998                                                  0    \n",
       "999                                                  0    \n",
       "\n",
       "     Final Stage_Rejected at 3rd Stage (121 Interview)  \n",
       "1                                                    0  \n",
       "2                                                    0  \n",
       "3                                                    0  \n",
       "4                                                    0  \n",
       "5                                                    0  \n",
       "..                                                 ...  \n",
       "995                                                  1  \n",
       "996                                                  0  \n",
       "997                                                  0  \n",
       "998                                                  0  \n",
       "999                                                  0  \n",
       "\n",
       "[999 rows x 8 columns]"
      ]
     },
     "execution_count": 139,
     "metadata": {},
     "output_type": "execute_result"
    }
   ],
   "source": [
    "df6"
   ]
  }
 ],
 "metadata": {
  "kernelspec": {
   "display_name": "Python",
   "language": "python",
   "name": "conda-env-python-py"
  },
  "language_info": {
   "codemirror_mode": {
    "name": "ipython",
    "version": 3
   },
   "file_extension": ".py",
   "mimetype": "text/x-python",
   "name": "python",
   "nbconvert_exporter": "python",
   "pygments_lexer": "ipython3",
   "version": "3.6.12"
  }
 },
 "nbformat": 4,
 "nbformat_minor": 4
}
